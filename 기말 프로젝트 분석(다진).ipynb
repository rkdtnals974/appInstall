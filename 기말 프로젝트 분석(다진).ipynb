{
 "cells": [
  {
   "cell_type": "markdown",
   "id": "25386896",
   "metadata": {},
   "source": [
    "나) 리뷰 숫자(Reviews)와 평점(Ratings) 사이에 상관 관계가 있을까?"
   ]
  },
  {
   "cell_type": "markdown",
   "id": "ee959dc1",
   "metadata": {},
   "source": [
    "## 1. 데이터 로드 및 전처리"
   ]
  },
  {
   "cell_type": "code",
   "execution_count": 1,
   "id": "aa4ea54c-6c1d-409d-bc12-8bacb61fb81b",
   "metadata": {},
   "outputs": [],
   "source": [
    "import pandas as pd\n",
    "from scipy import stats\n",
    "from matplotlib import pyplot as plt\n",
    "import numpy as np\n",
    "import seaborn as sns\n",
    "from scipy.stats import chi2_contingency"
   ]
  },
  {
   "cell_type": "code",
   "execution_count": 8,
   "id": "7d5667d6-b037-4dcc-a085-4bc003b8ce79",
   "metadata": {},
   "outputs": [
    {
     "name": "stdout",
     "output_type": "stream",
     "text": [
      "8884\n",
      "<class 'pandas.core.frame.DataFrame'>\n"
     ]
    },
    {
     "data": {
      "text/html": [
       "<div>\n",
       "<style scoped>\n",
       "    .dataframe tbody tr th:only-of-type {\n",
       "        vertical-align: middle;\n",
       "    }\n",
       "\n",
       "    .dataframe tbody tr th {\n",
       "        vertical-align: top;\n",
       "    }\n",
       "\n",
       "    .dataframe thead th {\n",
       "        text-align: right;\n",
       "    }\n",
       "</style>\n",
       "<table border=\"1\" class=\"dataframe\">\n",
       "  <thead>\n",
       "    <tr style=\"text-align: right;\">\n",
       "      <th></th>\n",
       "      <th>Unnamed: 0.1</th>\n",
       "      <th>App</th>\n",
       "      <th>Category</th>\n",
       "      <th>Rating</th>\n",
       "      <th>Reviews</th>\n",
       "      <th>Size</th>\n",
       "      <th>Installs</th>\n",
       "      <th>Type</th>\n",
       "      <th>Price</th>\n",
       "      <th>Content Rating</th>\n",
       "      <th>Genres</th>\n",
       "      <th>Last Updated</th>\n",
       "      <th>Current Ver</th>\n",
       "      <th>Android Ver</th>\n",
       "    </tr>\n",
       "  </thead>\n",
       "  <tbody>\n",
       "    <tr>\n",
       "      <th>0</th>\n",
       "      <td>0</td>\n",
       "      <td>Photo Editor &amp; Candy Camera &amp; Grid &amp; ScrapBook</td>\n",
       "      <td>ART_AND_DESIGN</td>\n",
       "      <td>4.1</td>\n",
       "      <td>159</td>\n",
       "      <td>19000.0</td>\n",
       "      <td>10,000 ~ 100,000</td>\n",
       "      <td>Free</td>\n",
       "      <td>0.0</td>\n",
       "      <td>Everyone</td>\n",
       "      <td>Art &amp; Design</td>\n",
       "      <td>January 7, 2018</td>\n",
       "      <td>1.0.0</td>\n",
       "      <td>4.0.3 and up</td>\n",
       "    </tr>\n",
       "    <tr>\n",
       "      <th>1</th>\n",
       "      <td>1</td>\n",
       "      <td>Coloring book moana</td>\n",
       "      <td>ART_AND_DESIGN</td>\n",
       "      <td>3.9</td>\n",
       "      <td>967</td>\n",
       "      <td>14000.0</td>\n",
       "      <td>100,000 ~ 1,000,000</td>\n",
       "      <td>Free</td>\n",
       "      <td>0.0</td>\n",
       "      <td>Everyone</td>\n",
       "      <td>Art &amp; Design;Pretend Play</td>\n",
       "      <td>January 15, 2018</td>\n",
       "      <td>2.0.0</td>\n",
       "      <td>4.0.3 and up</td>\n",
       "    </tr>\n",
       "    <tr>\n",
       "      <th>2</th>\n",
       "      <td>2</td>\n",
       "      <td>U Launcher Lite – FREE Live Cool Themes, Hide ...</td>\n",
       "      <td>ART_AND_DESIGN</td>\n",
       "      <td>4.7</td>\n",
       "      <td>87510</td>\n",
       "      <td>8700.0</td>\n",
       "      <td>1,000,000 ~ 10,000,000</td>\n",
       "      <td>Free</td>\n",
       "      <td>0.0</td>\n",
       "      <td>Everyone</td>\n",
       "      <td>Art &amp; Design</td>\n",
       "      <td>August 1, 2018</td>\n",
       "      <td>1.2.4</td>\n",
       "      <td>4.0.3 and up</td>\n",
       "    </tr>\n",
       "    <tr>\n",
       "      <th>3</th>\n",
       "      <td>3</td>\n",
       "      <td>Sketch - Draw &amp; Paint</td>\n",
       "      <td>ART_AND_DESIGN</td>\n",
       "      <td>4.5</td>\n",
       "      <td>215644</td>\n",
       "      <td>25000.0</td>\n",
       "      <td>10,000,000 ~ 100,000,000</td>\n",
       "      <td>Free</td>\n",
       "      <td>0.0</td>\n",
       "      <td>Teen</td>\n",
       "      <td>Art &amp; Design</td>\n",
       "      <td>June 8, 2018</td>\n",
       "      <td>Varies with device</td>\n",
       "      <td>4.2 and up</td>\n",
       "    </tr>\n",
       "    <tr>\n",
       "      <th>4</th>\n",
       "      <td>4</td>\n",
       "      <td>Pixel Draw - Number Art Coloring Book</td>\n",
       "      <td>ART_AND_DESIGN</td>\n",
       "      <td>4.3</td>\n",
       "      <td>967</td>\n",
       "      <td>2800.0</td>\n",
       "      <td>100,000 ~ 1,000,000</td>\n",
       "      <td>Free</td>\n",
       "      <td>0.0</td>\n",
       "      <td>Everyone</td>\n",
       "      <td>Art &amp; Design;Creativity</td>\n",
       "      <td>June 20, 2018</td>\n",
       "      <td>1.1</td>\n",
       "      <td>4.4 and up</td>\n",
       "    </tr>\n",
       "  </tbody>\n",
       "</table>\n",
       "</div>"
      ],
      "text/plain": [
       "   Unnamed: 0.1                                                App  \\\n",
       "0             0     Photo Editor & Candy Camera & Grid & ScrapBook   \n",
       "1             1                                Coloring book moana   \n",
       "2             2  U Launcher Lite – FREE Live Cool Themes, Hide ...   \n",
       "3             3                              Sketch - Draw & Paint   \n",
       "4             4              Pixel Draw - Number Art Coloring Book   \n",
       "\n",
       "         Category  Rating  Reviews     Size                  Installs  Type  \\\n",
       "0  ART_AND_DESIGN     4.1      159  19000.0          10,000 ~ 100,000  Free   \n",
       "1  ART_AND_DESIGN     3.9      967  14000.0       100,000 ~ 1,000,000  Free   \n",
       "2  ART_AND_DESIGN     4.7    87510   8700.0    1,000,000 ~ 10,000,000  Free   \n",
       "3  ART_AND_DESIGN     4.5   215644  25000.0  10,000,000 ~ 100,000,000  Free   \n",
       "4  ART_AND_DESIGN     4.3      967   2800.0       100,000 ~ 1,000,000  Free   \n",
       "\n",
       "   Price Content Rating                     Genres      Last Updated  \\\n",
       "0    0.0       Everyone               Art & Design   January 7, 2018   \n",
       "1    0.0       Everyone  Art & Design;Pretend Play  January 15, 2018   \n",
       "2    0.0       Everyone               Art & Design    August 1, 2018   \n",
       "3    0.0           Teen               Art & Design      June 8, 2018   \n",
       "4    0.0       Everyone    Art & Design;Creativity     June 20, 2018   \n",
       "\n",
       "          Current Ver   Android Ver  \n",
       "0               1.0.0  4.0.3 and up  \n",
       "1               2.0.0  4.0.3 and up  \n",
       "2               1.2.4  4.0.3 and up  \n",
       "3  Varies with device    4.2 and up  \n",
       "4                 1.1    4.4 and up  "
      ]
     },
     "execution_count": 8,
     "metadata": {},
     "output_type": "execute_result"
    }
   ],
   "source": [
    "#데이터 로드 및 확인\n",
    "data = pd.read_csv(\"app_data_d.csv\", index_col=[0])\n",
    "data\n",
    "print(len(data))\n",
    "print(type(data))\n",
    "data.head()"
   ]
  },
  {
   "cell_type": "code",
   "execution_count": 9,
   "id": "ec861268",
   "metadata": {},
   "outputs": [],
   "source": [
    "#데이터 추가 전처리(Installs 컬럼): 10억 건 이상 다운로드 횟수를 1억 건 이상 범주로 통합\n",
    "data = data.replace('1,000,000,000+', '100,000,000 ~')"
   ]
  },
  {
   "cell_type": "code",
   "execution_count": 11,
   "id": "14d42cc2",
   "metadata": {},
   "outputs": [
    {
     "name": "stdout",
     "output_type": "stream",
     "text": [
      "<class 'pandas.core.frame.DataFrame'>\n",
      "Int64Index: 8884 entries, 0 to 9365\n",
      "Data columns (total 14 columns):\n",
      " #   Column          Non-Null Count  Dtype  \n",
      "---  ------          --------------  -----  \n",
      " 0   Unnamed: 0.1    8884 non-null   int64  \n",
      " 1   App             8884 non-null   object \n",
      " 2   Category        8884 non-null   object \n",
      " 3   Rating          8884 non-null   float64\n",
      " 4   Reviews         8884 non-null   int64  \n",
      " 5   Size            7417 non-null   float64\n",
      " 6   Installs        8884 non-null   object \n",
      " 7   Type            8884 non-null   object \n",
      " 8   Price           8884 non-null   float64\n",
      " 9   Content Rating  8884 non-null   object \n",
      " 10  Genres          8884 non-null   object \n",
      " 11  Last Updated    8884 non-null   object \n",
      " 12  Current Ver     8880 non-null   object \n",
      " 13  Android Ver     8882 non-null   object \n",
      "dtypes: float64(3), int64(2), object(9)\n",
      "memory usage: 1.0+ MB\n"
     ]
    }
   ],
   "source": [
    "data.info()"
   ]
  },
  {
   "cell_type": "code",
   "execution_count": 12,
   "id": "4f42915c",
   "metadata": {},
   "outputs": [
    {
     "data": {
      "text/html": [
       "<div>\n",
       "<style scoped>\n",
       "    .dataframe tbody tr th:only-of-type {\n",
       "        vertical-align: middle;\n",
       "    }\n",
       "\n",
       "    .dataframe tbody tr th {\n",
       "        vertical-align: top;\n",
       "    }\n",
       "\n",
       "    .dataframe thead th {\n",
       "        text-align: right;\n",
       "    }\n",
       "</style>\n",
       "<table border=\"1\" class=\"dataframe\">\n",
       "  <thead>\n",
       "    <tr style=\"text-align: right;\">\n",
       "      <th></th>\n",
       "      <th>Unnamed: 0.1</th>\n",
       "      <th>Rating</th>\n",
       "      <th>Reviews</th>\n",
       "      <th>Size</th>\n",
       "      <th>Price</th>\n",
       "    </tr>\n",
       "  </thead>\n",
       "  <tbody>\n",
       "    <tr>\n",
       "      <th>count</th>\n",
       "      <td>8884.000000</td>\n",
       "      <td>8884.000000</td>\n",
       "      <td>8.884000e+03</td>\n",
       "      <td>7417.000000</td>\n",
       "      <td>8884.000000</td>\n",
       "    </tr>\n",
       "    <tr>\n",
       "      <th>mean</th>\n",
       "      <td>5297.163890</td>\n",
       "      <td>4.187663</td>\n",
       "      <td>4.726452e+05</td>\n",
       "      <td>22743.688756</td>\n",
       "      <td>0.963348</td>\n",
       "    </tr>\n",
       "    <tr>\n",
       "      <th>std</th>\n",
       "      <td>3100.740894</td>\n",
       "      <td>0.522521</td>\n",
       "      <td>2.906031e+06</td>\n",
       "      <td>23437.009098</td>\n",
       "      <td>16.196519</td>\n",
       "    </tr>\n",
       "    <tr>\n",
       "      <th>min</th>\n",
       "      <td>0.000000</td>\n",
       "      <td>1.000000</td>\n",
       "      <td>1.000000e+00</td>\n",
       "      <td>8.500000</td>\n",
       "      <td>0.000000</td>\n",
       "    </tr>\n",
       "    <tr>\n",
       "      <th>25%</th>\n",
       "      <td>2668.750000</td>\n",
       "      <td>4.000000</td>\n",
       "      <td>1.640000e+02</td>\n",
       "      <td>5100.000000</td>\n",
       "      <td>0.000000</td>\n",
       "    </tr>\n",
       "    <tr>\n",
       "      <th>50%</th>\n",
       "      <td>5144.500000</td>\n",
       "      <td>4.300000</td>\n",
       "      <td>4.682000e+03</td>\n",
       "      <td>14000.000000</td>\n",
       "      <td>0.000000</td>\n",
       "    </tr>\n",
       "    <tr>\n",
       "      <th>75%</th>\n",
       "      <td>7995.250000</td>\n",
       "      <td>4.500000</td>\n",
       "      <td>7.092500e+04</td>\n",
       "      <td>33000.000000</td>\n",
       "      <td>0.000000</td>\n",
       "    </tr>\n",
       "    <tr>\n",
       "      <th>max</th>\n",
       "      <td>10840.000000</td>\n",
       "      <td>5.000000</td>\n",
       "      <td>7.815831e+07</td>\n",
       "      <td>100000.000000</td>\n",
       "      <td>400.000000</td>\n",
       "    </tr>\n",
       "  </tbody>\n",
       "</table>\n",
       "</div>"
      ],
      "text/plain": [
       "       Unnamed: 0.1       Rating       Reviews           Size        Price\n",
       "count   8884.000000  8884.000000  8.884000e+03    7417.000000  8884.000000\n",
       "mean    5297.163890     4.187663  4.726452e+05   22743.688756     0.963348\n",
       "std     3100.740894     0.522521  2.906031e+06   23437.009098    16.196519\n",
       "min        0.000000     1.000000  1.000000e+00       8.500000     0.000000\n",
       "25%     2668.750000     4.000000  1.640000e+02    5100.000000     0.000000\n",
       "50%     5144.500000     4.300000  4.682000e+03   14000.000000     0.000000\n",
       "75%     7995.250000     4.500000  7.092500e+04   33000.000000     0.000000\n",
       "max    10840.000000     5.000000  7.815831e+07  100000.000000   400.000000"
      ]
     },
     "execution_count": 12,
     "metadata": {},
     "output_type": "execute_result"
    }
   ],
   "source": [
    "data.describe()"
   ]
  },
  {
   "cell_type": "markdown",
   "id": "929a8586",
   "metadata": {},
   "source": [
    "## 2. 리뷰(Reviews)와 평점(Ratings) 사이에 상관 관계가 있을까?"
   ]
  },
  {
   "cell_type": "markdown",
   "id": "11bbc77f",
   "metadata": {},
   "source": [
    "### (1) 리뷰(Reviews)와 평점(Ratings)으로 구성된 df 형성"
   ]
  },
  {
   "cell_type": "code",
   "execution_count": 15,
   "id": "a12f4152",
   "metadata": {},
   "outputs": [
    {
     "data": {
      "text/html": [
       "<div>\n",
       "<style scoped>\n",
       "    .dataframe tbody tr th:only-of-type {\n",
       "        vertical-align: middle;\n",
       "    }\n",
       "\n",
       "    .dataframe tbody tr th {\n",
       "        vertical-align: top;\n",
       "    }\n",
       "\n",
       "    .dataframe thead th {\n",
       "        text-align: right;\n",
       "    }\n",
       "</style>\n",
       "<table border=\"1\" class=\"dataframe\">\n",
       "  <thead>\n",
       "    <tr style=\"text-align: right;\">\n",
       "      <th></th>\n",
       "      <th>Reviews</th>\n",
       "      <th>Rating</th>\n",
       "    </tr>\n",
       "  </thead>\n",
       "  <tbody>\n",
       "    <tr>\n",
       "      <th>0</th>\n",
       "      <td>159</td>\n",
       "      <td>4.1</td>\n",
       "    </tr>\n",
       "    <tr>\n",
       "      <th>1</th>\n",
       "      <td>967</td>\n",
       "      <td>3.9</td>\n",
       "    </tr>\n",
       "    <tr>\n",
       "      <th>2</th>\n",
       "      <td>87510</td>\n",
       "      <td>4.7</td>\n",
       "    </tr>\n",
       "    <tr>\n",
       "      <th>3</th>\n",
       "      <td>215644</td>\n",
       "      <td>4.5</td>\n",
       "    </tr>\n",
       "    <tr>\n",
       "      <th>4</th>\n",
       "      <td>967</td>\n",
       "      <td>4.3</td>\n",
       "    </tr>\n",
       "    <tr>\n",
       "      <th>...</th>\n",
       "      <td>...</td>\n",
       "      <td>...</td>\n",
       "    </tr>\n",
       "    <tr>\n",
       "      <th>9361</th>\n",
       "      <td>7</td>\n",
       "      <td>4.0</td>\n",
       "    </tr>\n",
       "    <tr>\n",
       "      <th>9362</th>\n",
       "      <td>38</td>\n",
       "      <td>4.5</td>\n",
       "    </tr>\n",
       "    <tr>\n",
       "      <th>9363</th>\n",
       "      <td>4</td>\n",
       "      <td>5.0</td>\n",
       "    </tr>\n",
       "    <tr>\n",
       "      <th>9364</th>\n",
       "      <td>114</td>\n",
       "      <td>4.5</td>\n",
       "    </tr>\n",
       "    <tr>\n",
       "      <th>9365</th>\n",
       "      <td>398307</td>\n",
       "      <td>4.5</td>\n",
       "    </tr>\n",
       "  </tbody>\n",
       "</table>\n",
       "<p>8884 rows × 2 columns</p>\n",
       "</div>"
      ],
      "text/plain": [
       "      Reviews  Rating\n",
       "0         159     4.1\n",
       "1         967     3.9\n",
       "2       87510     4.7\n",
       "3      215644     4.5\n",
       "4         967     4.3\n",
       "...       ...     ...\n",
       "9361        7     4.0\n",
       "9362       38     4.5\n",
       "9363        4     5.0\n",
       "9364      114     4.5\n",
       "9365   398307     4.5\n",
       "\n",
       "[8884 rows x 2 columns]"
      ]
     },
     "execution_count": 15,
     "metadata": {},
     "output_type": "execute_result"
    }
   ],
   "source": [
    "data_review_rating=data[[\"Reviews\",\"Rating\"]]\n",
    "data_review_rating"
   ]
  },
  {
   "cell_type": "markdown",
   "id": "096533e9",
   "metadata": {},
   "source": [
    "### (2) 리뷰(Reviews)와 평점(Ratings) 간 상관분석 수행"
   ]
  },
  {
   "cell_type": "code",
   "execution_count": 30,
   "id": "9ca0024e",
   "metadata": {
    "scrolled": false
   },
   "outputs": [
    {
     "data": {
      "text/plain": [
       "<AxesSubplot:>"
      ]
     },
     "execution_count": 30,
     "metadata": {},
     "output_type": "execute_result"
    },
    {
     "data": {
      "image/png": "[encoded data removed]",
      "text/plain": [
       "<Figure size 432x288 with 1 Axes>"
      ]
     },
     "metadata": {
      "needs_background": "light"
     },
     "output_type": "display_data"
    }
   ],
   "source": [
    "# (1) 시각화\n",
    "sns.scatterplot(data = data_review_rating)"
   ]
  },
  {
   "cell_type": "code",
   "execution_count": 45,
   "id": "5ed1bdb9",
   "metadata": {},
   "outputs": [
    {
     "name": "stdout",
     "output_type": "stream",
     "text": [
      "PearsonrResult (0.06871090174607408, 8.985956016374743e-11)\n",
      "SpearmanrResult(correlation=0.15057136609659533, pvalue=3.2924847930244618e-46)\n"
     ]
    }
   ],
   "source": [
    "# (2) Pearson/spearman 상관분석\n",
    "#H0: Content Reviews와 Rating 두 변수는 독립이다. (관련이 없다.)\n",
    "#H1: Content Reviews와 Rating 두 변수는 관련이 있다.\n",
    "\n",
    "print(\"PearsonrResult\",stats.pearsonr(data_review_rating[\"Reviews\"],data_review_rating[\"Rating\"]))\n",
    "print(stats.spearmanr(data_review_rating[\"Reviews\"],data_review_rating[\"Rating\"]))\n",
    "\n",
    "# p-value < 0.05, reject H0, Content Reviews과 Rating 간 상관관계가 있다."
   ]
  },
  {
   "cell_type": "markdown",
   "id": "04256ae7",
   "metadata": {},
   "source": [
    "=> 비록 pearson과 spearman 상관분석 결과에 따르면 Review와 Rating 간 상관관계가 있는 것으로 나오나, 상관계수 값이 0.069로 그 값이 굉장히 작고 시각화 결과도 상관관계가 유의미하게 있어보이지 않는다고 판단할 수 있다."
   ]
  },
  {
   "cell_type": "markdown",
   "id": "662f5f82",
   "metadata": {},
   "source": [
    "### (3) 평점(Ratings)과 상관관계를 지니는 타 변수 확인하기"
   ]
  },
  {
   "cell_type": "code",
   "execution_count": 33,
   "id": "4bdb11e2",
   "metadata": {
    "scrolled": true
   },
   "outputs": [
    {
     "data": {
      "image/png": "[encoded data removed]",
      "text/plain": [
       "<Figure size 864x288 with 3 Axes>"
      ]
     },
     "metadata": {
      "needs_background": "light"
     },
     "output_type": "display_data"
    }
   ],
   "source": [
    "# Rating - Review/Size/Price 간의 관계 pairplot으로 확인하기\n",
    "sns.pairplot(data, x_vars=['Reviews','Size','Price'],y_vars = \"Rating\",height = 4, aspect = 1, kind = \"scatter\")\n",
    "plt.show()"
   ]
  },
  {
   "cell_type": "markdown",
   "id": "96b75e54",
   "metadata": {},
   "source": [
    "=> Size와 Rating의 관계가 상대적으로 높을 것으로 보이기 때문에, 상관분석 진행"
   ]
  },
  {
   "cell_type": "markdown",
   "id": "bf0ac3d1",
   "metadata": {},
   "source": [
    "### (4) 앱 크기(App Size)와 평점(Rating) 간 상관관계 분석"
   ]
  },
  {
   "cell_type": "code",
   "execution_count": 49,
   "id": "bdaa7210",
   "metadata": {},
   "outputs": [
    {
     "name": "stdout",
     "output_type": "stream",
     "text": [
      "PearsonResult (0.08182800207998668, 1.6910847090613466e-12)\n"
     ]
    },
    {
     "data": {
      "text/plain": [
       "SpearmanrResult(correlation=0.06781646849246084, pvalue=5.028178686351999e-09)"
      ]
     },
     "execution_count": 49,
     "metadata": {},
     "output_type": "execute_result"
    }
   ],
   "source": [
    "# Pearson/Spearman 상관분석\n",
    "#H0: App Size와 Rating 두 변수는 독립이다. (관련이 없다.)\n",
    "#H1: App Size와 Rating 두 변수는 관련이 있다.\n",
    "\n",
    "#Size column 중 NaN 값 제거\n",
    "data_nan_del = data.dropna(subset=['Size'], how='any', axis=0)\n",
    "\n",
    "print(\"PearsonResult\",stats.pearsonr(data_nan_del[\"Size\"],data_nan_del[\"Rating\"]))\n",
    "stats.spearmanr(data_nan_del[\"Size\"],data_nan_del[\"Rating\"])\n",
    "\n",
    "# p-value < 0.05, reject H0, App size와 Rating 간 상관관계가 있다."
   ]
  },
  {
   "cell_type": "markdown",
   "id": "980cc92e",
   "metadata": {},
   "source": [
    "### (5) 앱 가격(App Price)와 평점(Rating) 간 상관관계 분석"
   ]
  },
  {
   "cell_type": "code",
   "execution_count": 63,
   "id": "210fbd17",
   "metadata": {},
   "outputs": [],
   "source": [
    "#Price 값 중 200 이상인 경우 drop\n",
    "idx = data[data['Price'] > 200].index\n",
    "data_price_under_200 = data.drop(idx) "
   ]
  },
  {
   "cell_type": "code",
   "execution_count": 64,
   "id": "7993bf13",
   "metadata": {},
   "outputs": [
    {
     "data": {
      "text/plain": [
       "<AxesSubplot:xlabel='Price', ylabel='Rating'>"
      ]
     },
     "execution_count": 64,
     "metadata": {},
     "output_type": "execute_result"
    },
    {
     "data": {
      "image/png": "[encoded data removed]",
      "text/plain": [
       "<Figure size 432x288 with 1 Axes>"
      ]
     },
     "metadata": {
      "needs_background": "light"
     },
     "output_type": "display_data"
    }
   ],
   "source": [
    "#시각화\n",
    "sns.scatterplot(data = data_price_under_200, x = \"Price\", y = \"Rating\")"
   ]
  },
  {
   "cell_type": "code",
   "execution_count": 65,
   "id": "612fb706",
   "metadata": {},
   "outputs": [
    {
     "name": "stdout",
     "output_type": "stream",
     "text": [
      "PearsonResult (0.019755698056852795, 0.06282620476363346)\n"
     ]
    },
    {
     "data": {
      "text/plain": [
       "SpearmanrResult(correlation=0.0689669514661997, pvalue=7.935676713761941e-11)"
      ]
     },
     "execution_count": 65,
     "metadata": {},
     "output_type": "execute_result"
    }
   ],
   "source": [
    "# Pearson/Spearman 상관분석\n",
    "#H0: App Price와 Rating 두 변수는 독립이다. (관련이 없다.)\n",
    "#H1: App Price와 Rating 두 변수는 관련이 있다.\n",
    "\n",
    "print(\"PearsonResult\",stats.pearsonr(data_price_under_200[\"Price\"],data_price_under_200[\"Rating\"]))\n",
    "stats.spearmanr(data_price_under_200[\"Price\"],data_price_under_200[\"Rating\"])\n",
    "\n",
    "# p-value < 0.05, reject H0, App Price와 Rating 간 상관관계가 없다."
   ]
  },
  {
   "cell_type": "markdown",
   "id": "d0f42fda",
   "metadata": {},
   "source": [
    "- 결과적으로 Review와 Rating 사이에는 상관관계를 지닌다고 볼 수 있으며, 추가적으로 Rating과 상관관계를 지니는 다른 변수를 확인하고자 한 결과 Size가 Rating 사이에 상관관계를 지니고 있음을 확인할 수 있었다."
   ]
  },
  {
   "cell_type": "markdown",
   "id": "f5b1b178",
   "metadata": {},
   "source": [
    "### (6) 상관관계가 존재하는 Review-Rating / Size-Rating 선형회귀분석 수행"
   ]
  },
  {
   "cell_type": "code",
   "execution_count": 58,
   "id": "a7d326f9",
   "metadata": {
    "scrolled": false
   },
   "outputs": [
    {
     "name": "stdout",
     "output_type": "stream",
     "text": [
      "Intercept    4.181824e+00\n",
      "Reviews      1.235461e-08\n",
      "dtype: float64\n",
      "                            OLS Regression Results                            \n",
      "==============================================================================\n",
      "Dep. Variable:                 Rating   R-squared:                       0.005\n",
      "Model:                            OLS   Adj. R-squared:                  0.005\n",
      "Method:                 Least Squares   F-statistic:                     42.13\n",
      "Date:                Sun, 11 Dec 2022   Prob (F-statistic):           8.99e-11\n",
      "Time:                        13:00:00   Log-Likelihood:                -6817.8\n",
      "No. Observations:                8884   AIC:                         1.364e+04\n",
      "Df Residuals:                    8882   BIC:                         1.365e+04\n",
      "Df Model:                           1                                         \n",
      "Covariance Type:            nonrobust                                         \n",
      "==============================================================================\n",
      "                 coef    std err          t      P>|t|      [0.025      0.975]\n",
      "------------------------------------------------------------------------------\n",
      "Intercept      4.1818      0.006    746.276      0.000       4.171       4.193\n",
      "Reviews     1.235e-08    1.9e-09      6.491      0.000    8.62e-09    1.61e-08\n",
      "==============================================================================\n",
      "Omnibus:                     3406.773   Durbin-Watson:                   1.779\n",
      "Prob(Omnibus):                  0.000   Jarque-Bera (JB):            16428.642\n",
      "Skew:                          -1.812   Prob(JB):                         0.00\n",
      "Kurtosis:                       8.589   Cond. No.                     2.98e+06\n",
      "==============================================================================\n",
      "\n",
      "Notes:\n",
      "[1] Standard Errors assume that the covariance matrix of the errors is correctly specified.\n",
      "[2] The condition number is large, 2.98e+06. This might indicate that there are\n",
      "strong multicollinearity or other numerical problems.\n"
     ]
    }
   ],
   "source": [
    "import statsmodels.formula.api as sm\n",
    "lr = sm.ols(\"Rating~Reviews\", data = data).fit()\n",
    "\n",
    "print(lr.params)\n",
    "print(lr.summary())"
   ]
  },
  {
   "cell_type": "code",
   "execution_count": 60,
   "id": "ed9a20b0",
   "metadata": {},
   "outputs": [
    {
     "name": "stdout",
     "output_type": "stream",
     "text": [
      "Intercept    4.127375\n",
      "Size         0.000002\n",
      "dtype: float64\n",
      "                            OLS Regression Results                            \n",
      "==============================================================================\n",
      "Dep. Variable:                 Rating   R-squared:                       0.007\n",
      "Model:                            OLS   Adj. R-squared:                  0.007\n",
      "Method:                 Least Squares   F-statistic:                     49.98\n",
      "Date:                Sun, 11 Dec 2022   Prob (F-statistic):           1.69e-12\n",
      "Time:                        13:00:46   Log-Likelihood:                -6063.0\n",
      "No. Observations:                7417   AIC:                         1.213e+04\n",
      "Df Residuals:                    7415   BIC:                         1.214e+04\n",
      "Df Model:                           1                                         \n",
      "Covariance Type:            nonrobust                                         \n",
      "==============================================================================\n",
      "                 coef    std err          t      P>|t|      [0.025      0.975]\n",
      "------------------------------------------------------------------------------\n",
      "Intercept      4.1274      0.009    465.420      0.000       4.110       4.145\n",
      "Size         1.92e-06   2.72e-07      7.070      0.000    1.39e-06    2.45e-06\n",
      "==============================================================================\n",
      "Omnibus:                     2606.986   Durbin-Watson:                   1.804\n",
      "Prob(Omnibus):                  0.000   Jarque-Bera (JB):            10923.982\n",
      "Skew:                          -1.694   Prob(JB):                         0.00\n",
      "Kurtosis:                       7.886   Cond. No.                     4.55e+04\n",
      "==============================================================================\n",
      "\n",
      "Notes:\n",
      "[1] Standard Errors assume that the covariance matrix of the errors is correctly specified.\n",
      "[2] The condition number is large, 4.55e+04. This might indicate that there are\n",
      "strong multicollinearity or other numerical problems.\n"
     ]
    }
   ],
   "source": [
    "import statsmodels.formula.api as sm\n",
    "lr = sm.ols(\"Rating~Size\", data = data).fit()\n",
    "\n",
    "print(lr.params)\n",
    "print(lr.summary())"
   ]
  },
  {
   "cell_type": "markdown",
   "id": "463535b8",
   "metadata": {},
   "source": [
    "=> 분석 이행 이전에는 Review 수가 Rating과 가장 큰 상관관계를 지니고 있을 것이라고 생각했는데, 분석 결과에 따르면 상관관계는 존재하나 미미하며 Review 수보다 Size와 더 높은 상관관계를 지닌다고 볼 수 있다. "
   ]
  }
 ],
 "metadata": {
  "kernelspec": {
   "display_name": "Python 3 (ipykernel)",
   "language": "python",
   "name": "python3"
  },
  "language_info": {
   "codemirror_mode": {
    "name": "ipython",
    "version": 3
   },
   "file_extension": ".py",
   "mimetype": "text/x-python",
   "name": "python",
   "nbconvert_exporter": "python",
   "pygments_lexer": "ipython3",
   "version": "3.9.7"
  }
 },
 "nbformat": 4,
 "nbformat_minor": 5
}
